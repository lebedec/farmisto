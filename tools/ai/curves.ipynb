{
 "cells": [
  {
   "cell_type": "code",
   "execution_count": 12,
   "metadata": {},
   "outputs": [
    {
     "data": {
      "application/vnd.jupyter.widget-view+json": {
       "model_id": "19279231f62f4ba2a9295231915dd8c8",
       "version_major": 2,
       "version_minor": 0
      },
      "text/plain": [
       "interactive(children=(FloatSlider(value=0.0, continuous_update=False, description='x', max=1.0, step=0.01), Ou…"
      ]
     },
     "metadata": {},
     "output_type": "display_data"
    },
    {
     "data": {
      "text/plain": [
       "<function __main__.test(x)>"
      ]
     },
     "execution_count": 12,
     "metadata": {},
     "output_type": "execute_result"
    }
   ],
   "source": [
    "from ai.responses import func1, simplify, evaluate\n",
    "import numpy as np\n",
    "import matplotlib.pyplot as plt\n",
    "from ipywidgets import interact, FloatSlider\n",
    "\n",
    "\n",
    "def test(x):\n",
    "    step = 0.001\n",
    "    fx = np.arange(0.0, 1.0, step)\n",
    "    # fy = np.log(fx)\n",
    "    # fy = list(map(lambda x: 1.0, fx))\n",
    "    fy = np.sin(fx * 3.14 * 2)\n",
    "    \n",
    "    # function definition\n",
    "    plt.plot(fx, fy)\n",
    "    \n",
    "    # simplification\n",
    "    curve = simplify(fy, step, 0.1)\n",
    "    plt.scatter(curve.x, curve.y, color='#aabbcc99')\n",
    "    plt.plot(curve.x, curve.y, color='#aabbcc99')\n",
    "    \n",
    "    # evaluation\n",
    "    ex, ey = evaluate(x, curve)\n",
    "    plt.plot(ex, ey, color='red')\n",
    "    plt.scatter(ex[1], ey[1], color='red')\n",
    "    \n",
    "    plt.show()\n",
    "    \n",
    "    print('Function values:', len(fx), 'simplification:', len(curve.x))\n",
    "    # return x\n",
    "\n",
    "interact(test, x=FloatSlider(min=0.0, max=1.0, step=0.01, continuous_update=False))\n",
    "\n"
   ]
  },
  {
   "cell_type": "code",
   "execution_count": null,
   "metadata": {},
   "outputs": [],
   "source": []
  },
  {
   "cell_type": "code",
   "execution_count": null,
   "metadata": {},
   "outputs": [],
   "source": []
  },
  {
   "cell_type": "code",
   "execution_count": null,
   "metadata": {},
   "outputs": [],
   "source": []
  }
 ],
 "metadata": {
  "kernelspec": {
   "display_name": "Python 3 (ipykernel)",
   "language": "python",
   "name": "python3"
  },
  "language_info": {
   "codemirror_mode": {
    "name": "ipython",
    "version": 3
   },
   "file_extension": ".py",
   "mimetype": "text/x-python",
   "name": "python",
   "nbconvert_exporter": "python",
   "pygments_lexer": "ipython3",
   "version": "3.9.13"
  }
 },
 "nbformat": 4,
 "nbformat_minor": 1
}
