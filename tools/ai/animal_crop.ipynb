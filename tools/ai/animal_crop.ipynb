{
 "cells": [
  {
   "cell_type": "code",
   "execution_count": 5,
   "metadata": {},
   "outputs": [
    {
     "data": {
      "application/javascript": [
       "IPython.OutputArea.auto_scroll_threshold = 9999;\n"
      ],
      "text/plain": [
       "<IPython.core.display.Javascript object>"
      ]
     },
     "metadata": {},
     "output_type": "display_data"
    }
   ],
   "source": [
    "%%javascript\n",
    "IPython.OutputArea.auto_scroll_threshold = 9999;"
   ]
  },
  {
   "cell_type": "code",
   "execution_count": 20,
   "metadata": {},
   "outputs": [
    {
     "data": {
      "application/vnd.jupyter.widget-view+json": {
       "model_id": "deb39a58b983436c9c17ce99aed9079f",
       "version_major": 2,
       "version_minor": 0
      },
      "text/plain": [
       "interactive(children=(FloatSlider(value=0.5, continuous_update=False, description='MyHunger', max=1.0, step=0.…"
      ]
     },
     "metadata": {},
     "output_type": "display_data"
    },
    {
     "data": {
      "text/plain": [
       "<function ipywidgets.widgets.interaction._InteractFactory.__call__.<locals>.<lambda>(*args, **kwargs)>"
      ]
     },
     "execution_count": 20,
     "metadata": {},
     "output_type": "execute_result"
    }
   ],
   "source": [
    "from ai.definition import *\n",
    "from ai.curves import *\n",
    "from matplotlib import pyplot as plt\n",
    "\n",
    "\n",
    "behaviour = Behaviour(name='Birds - Eating', decisions=[\n",
    "    Decision('EatCrop', considerations=[\n",
    "        Consideration('MyHunger', 1.0, linear(lambda x: x )),\n",
    "        Consideration('CropDistance', 1.0, linear(lambda x: 1.0 - x)),\n",
    "        Consideration('CropNutritionValue', 1.0, linear(lambda x: 0.5 * x))\n",
    "    ]),\n",
    "    Decision('EatFromFeeder', considerations=[\n",
    "        Consideration('MyHunger', 1.0, linear(lambda x: x)),\n",
    "        Consideration('HerdDistance', 1.0, linear(lambda x: 1.0 - x)),\n",
    "    ]),\n",
    "    Decision('PeckGround', considerations=[\n",
    "        Consideration('MyHunger', 1.0, linear(lambda x: x ** 3)),\n",
    "        Consideration('SoilFertility', 1.0, linear(lambda x: x)),\n",
    "    ]),\n",
    "])\n",
    "\n",
    "\n",
    "behaviour.interact()"
   ]
  },
  {
   "cell_type": "code",
   "execution_count": null,
   "metadata": {},
   "outputs": [],
   "source": []
  }
 ],
 "metadata": {
  "kernelspec": {
   "display_name": "Python 3 (ipykernel)",
   "language": "python",
   "name": "python3"
  },
  "language_info": {
   "codemirror_mode": {
    "name": "ipython",
    "version": 3
   },
   "file_extension": ".py",
   "mimetype": "text/x-python",
   "name": "python",
   "nbconvert_exporter": "python",
   "pygments_lexer": "ipython3",
   "version": "3.9.13"
  }
 },
 "nbformat": 4,
 "nbformat_minor": 1
}
